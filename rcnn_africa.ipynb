{
 "cells": [
  {
   "cell_type": "code",
   "execution_count": 90,
   "metadata": {},
   "outputs": [],
   "source": [
    "import torchvision.datasets\n",
    "import os\n",
    "import random as r\n",
    "import torchvision.transforms\n",
    "import torch.nn.functional as F\n",
    "import torch\n",
    "from torchsummary import summary\n",
    "import torch.nn as nn\n",
    "import tqdm\n",
    "from PIL import Image\n",
    "import cv2\n",
    "from PIL import ImageDraw\n",
    "import matplotlib.pyplot as plt"
   ]
  },
  {
   "cell_type": "code",
   "execution_count": 12,
   "metadata": {},
   "outputs": [],
   "source": [
    "from python_files.get_data import *\n",
    "from python_files.resnetclass import *"
   ]
  },
  {
   "cell_type": "code",
   "execution_count": 14,
   "metadata": {},
   "outputs": [],
   "source": [
    "def dataset(path):\n",
    "    return torchvision.datasets.ImageFolder(\n",
    "        root=path)"
   ]
  },
  {
   "cell_type": "code",
   "execution_count": 15,
   "metadata": {},
   "outputs": [],
   "source": [
    "path_buff = '/home/efficientnet/notebooks/af_data/africa_dataset/only_buff'\n",
    "path_zebra = '/home/efficientnet/notebooks/af_data/africa_dataset/only_zebra'\n",
    "path_rhino = '/home/efficientnet/notebooks/af_data/africa_dataset/only_rhino'\n",
    "path_elephant = '/home/efficientnet/notebooks/af_data/africa_dataset/only_elephant'"
   ]
  },
  {
   "cell_type": "code",
   "execution_count": 16,
   "metadata": {},
   "outputs": [],
   "source": [
    "path_buff_2 = path_buff + '/buffalo/'\n",
    "path_zebra_2 = path_zebra + '/zebra/'\n",
    "path_rhino_2 = path_rhino + '/rhino/'\n",
    "path_elephant_2 = path_elephant + '/elephant/'"
   ]
  },
  {
   "cell_type": "code",
   "execution_count": 18,
   "metadata": {},
   "outputs": [
    {
     "name": "stdout",
     "output_type": "stream",
     "text": [
      "probleme 182 False True\n",
      "probleme 286 False False\n"
     ]
    }
   ],
   "source": [
    "#liste_fichiers = os.listdir(path_zebra_2)\n",
    "#liste_fichiers = os.listdir(path_elephant_2)\n",
    "#liste_fichiers = os.listdir(path_rhino_2)\n",
    "liste_fichiers = os.listdir(path_buff_2)\n",
    "n = 377 ##001 à 377\n",
    "list_names = []\n",
    "for i in range(1,10):\n",
    "    list_names.append('00'+str(i))\n",
    "for i in range(10, 100):\n",
    "    list_names.append('0'+str(i))\n",
    "for i in range(100, 378):\n",
    "    list_names.append(str(i))\n",
    "for name in list_names:\n",
    "    if not((name+'.jpg' in liste_fichiers and name+'.txt' in liste_fichiers)):\n",
    "        print(\"probleme\", name, (name+'.jpg' in liste_fichiers), (name+'.txt' in liste_fichiers))"
   ]
  },
  {
   "cell_type": "code",
   "execution_count": 19,
   "metadata": {},
   "outputs": [],
   "source": [
    "def get_detection_dataset(path):\n",
    "    liste_fichiers = os.listdir(path)\n",
    "    n_max = max([int(nom[:3]) for nom in liste_fichiers])\n",
    "    res = []\n",
    "    for i in range(1, 1+n_max):\n",
    "        if i<10:\n",
    "            name_base = '00'+str(i)\n",
    "        elif i<100:\n",
    "            name_base = '0'+str(i)\n",
    "        else:\n",
    "            name_base = str(i)\n",
    "            \n",
    "        if not((name_base+'.jpg' in liste_fichiers and name_base+'.txt' in liste_fichiers)):\n",
    "            continue \n",
    "        else:\n",
    "            name_im_file = name_base+'.jpg'\n",
    "            name_txt_file = name_base+'.txt'\n",
    "            im = Image.open(path + name_im_file)\n",
    "            rects = []\n",
    "            with open(path+name_txt_file, \"r\") as file:\n",
    "                for line in file.readlines():\n",
    "                    l = line.split(' ')\n",
    "                    coords = float(l[1]), float(l[2]), float(l[3]), float(l[4].strip())\n",
    "                    label = int(l[0])\n",
    "                    rects.append((label, coords))\n",
    "        res.append((im, rects))\n",
    "    return res"
   ]
  },
  {
   "cell_type": "code",
   "execution_count": 20,
   "metadata": {},
   "outputs": [],
   "source": [
    "det_dataset =get_detection_dataset(path_buff_2) +get_detection_dataset(path_zebra_2)+get_detection_dataset(path_rhino_2)+get_detection_dataset(path_elephant_2)"
   ]
  },
  {
   "cell_type": "code",
   "execution_count": 21,
   "metadata": {},
   "outputs": [],
   "source": [
    "def interpolate(img, res):\n",
    "    if img.ndim ==4:\n",
    "        img_perm = F.interpolate(img, size = res)\n",
    "        img_perm = img_perm.permute(0,1,3,2)\n",
    "        img_perm = F.interpolate(img_perm, size =res)\n",
    "        img_perm = img_perm.permute(0,1,3,2)\n",
    "        return img_perm\n",
    "    elif img.ndim==3:\n",
    "        img_perm = F.interpolate(img, size = res)\n",
    "        img_perm = img_perm.permute(0,2,1)\n",
    "        img_perm = F.interpolate(img_perm, size =res)\n",
    "        img_perm = img_perm.permute(0,2,1)\n",
    "        return img_perm\n",
    "    else:\n",
    "        raise Exception(\"tensor dimension should be 3 or 4\")\n",
    "    "
   ]
  },
  {
   "cell_type": "code",
   "execution_count": 22,
   "metadata": {},
   "outputs": [],
   "source": [
    "det_dataset = r.sample(det_dataset, len(det_dataset))"
   ]
  },
  {
   "cell_type": "code",
   "execution_count": 23,
   "metadata": {},
   "outputs": [],
   "source": [
    "t = torchvision.transforms.ToTensor()\n",
    "det_data_t = [(interpolate(t(image),140), label) for (image, label) in det_dataset]"
   ]
  },
  {
   "cell_type": "code",
   "execution_count": 24,
   "metadata": {},
   "outputs": [],
   "source": [
    "resnet = get_resnet(width = 17, resolution=140,depth=[3,3,2,2], num_classes = 4)"
   ]
  },
  {
   "cell_type": "code",
   "execution_count": 25,
   "metadata": {},
   "outputs": [],
   "source": [
    "path = '/home/efficientnet/notebooks/notebooks/models/resnetaf.txt'"
   ]
  },
  {
   "cell_type": "code",
   "execution_count": 26,
   "metadata": {},
   "outputs": [
    {
     "data": {
      "text/plain": [
       "<All keys matched successfully>"
      ]
     },
     "execution_count": 26,
     "metadata": {},
     "output_type": "execute_result"
    }
   ],
   "source": [
    "resnet.load_state_dict(torch.load(path,map_location=torch.device('cpu')))"
   ]
  },
  {
   "cell_type": "markdown",
   "metadata": {},
   "source": [
    "# Detection "
   ]
  },
  {
   "cell_type": "code",
   "execution_count": 28,
   "metadata": {},
   "outputs": [],
   "source": [
    "def selectivesearch(img):\n",
    "  \"\"\"\n",
    "  SelectiveSearch : \n",
    "  - image au format openCV  \n",
    "  - renvoie une liste de quadruplets (x,y,w,h) représentant les zones de \n",
    "    prédiction\n",
    "  \"\"\"\n",
    "  ss = cv2.ximgproc.segmentation.createSelectiveSearchSegmentation()\n",
    "  ss.setBaseImage(img)\n",
    "  # Deux modes de détections sont possibles : Fast et Quality\n",
    "  #ss.switchToSelectiveSearchFast()\n",
    "  ss.switchToSelectiveSearchQuality()\n",
    "  return ss.process()\n",
    "\n",
    "def showrects(img,rects,maxRect=3000):\n",
    "  \"\"\"\n",
    "  showrects : affiche l'image img en y dessinant les rectangles énumérés dans \n",
    "  la liste rects.\n",
    "  \"\"\"\n",
    "  # On crée une copie de l'image\n",
    "  imOut = img.copy()\n",
    "  # Pour chaque rectangle proposé, si il est dans les 1000 plus probables,\n",
    "  # on le dessine sur l'image\n",
    "  for i,rect in enumerate(rects):\n",
    "      if (i < maxRect):\n",
    "          x, y, w, h = rect\n",
    "          cv2.rectangle(imOut, (x, y), (x+w, y+h), (0, 0, 255), 1, cv2.LINE_AA)\n",
    "  plt.imshow(imOut)\n",
    "\n",
    "def filter_rects(rects, min_size=30, max_size = 400):\n",
    "  \"\"\" \n",
    "  filter_rects: prend en argument une liste de rectangles et renvoie une liste contenant uniquement\n",
    "  ceux dont les côtés sont de taille comprise entre min_size et max_size.\n",
    "  \"\"\"\n",
    "  new_list = []\n",
    "\n",
    "  for rect in rects:\n",
    "    _,_,w,h = rect \n",
    "    if w >= min_size and w <= max_size and h >= min_size and h <= max_size :\n",
    "      new_list.append(rect)\n",
    "  return new_list"
   ]
  },
  {
   "cell_type": "code",
   "execution_count": 29,
   "metadata": {},
   "outputs": [],
   "source": [
    "# transformation de l'image au format 224x224 attendu\n",
    "# par le modèle\n",
    "resize = transforms.Compose([\n",
    "                                 transforms.ToPILImage(),\n",
    "                                 transforms.Resize(140),\n",
    "                             transforms.CenterCrop(140)\n",
    "])\n",
    "# normalisation attendue par le modèle\n",
    "transform = transforms.Compose([\n",
    "      resize, \n",
    "      transforms.ToTensor()\n",
    "])\n",
    "# test de la transformation sur une image exemple.\n",
    "#image1 =transform(image1)"
   ]
  },
  {
   "cell_type": "code",
   "execution_count": 30,
   "metadata": {},
   "outputs": [],
   "source": [
    "def get_labeled_boxes(img,maxRect=2000,threshold=.5,iou=0.5):\n",
    "  \"\"\" \n",
    "  get_labeled_boxes : prend en argument\n",
    "    - une image (img),\n",
    "    - un nombre maximum de zones de prédictions à tester (maxRect),\n",
    "    - un seuil d'acceptation d'une zone de prédiction (threshold)\n",
    "    - un iou\n",
    "  \"\"\"\n",
    "  predictions = []\n",
    "  rects = selectivesearch(img)\n",
    "  rects = filter_rects(rects)\n",
    "  m = min(maxRect, len(rects))\n",
    "  for i in tqdm.notebook.tqdm(range(m)):\n",
    "    # crop l'image avec rects[i]\n",
    "    (x,y,w,h) = rects[i]\n",
    "    img_rect = img[y:y+h,x:x+w]\n",
    "    # on transforme l'image d'abord et on la resize \n",
    "    img_rect = transform(img_rect)\n",
    "    img_rect= img_rect.resize(1,3,140,140)\n",
    "\n",
    "\n",
    "    res_clf = resnet(img_rect)\n",
    "\n",
    "    ## on convertit en probas avec softmax\n",
    "    probs = torch.nn.functional.softmax(res_clf)\n",
    "    proba_max, ind  = torch.max(probs), torch.argmax(probs)\n",
    "\n",
    "    if proba_max > threshold:\n",
    "      # on conserve cette prédiction\n",
    "      triplet = rects[i], int(ind), float(proba_max)\n",
    "      predictions.append(triplet)\n",
    "\n",
    "  return predictions "
   ]
  },
  {
   "cell_type": "code",
   "execution_count": 31,
   "metadata": {},
   "outputs": [],
   "source": [
    "#preds = get_labeled_boxes(image1,maxRect=2000,threshold=.9,iou=0.7)"
   ]
  },
  {
   "cell_type": "code",
   "execution_count": 32,
   "metadata": {},
   "outputs": [],
   "source": [
    "#labels = {0 : \"buffalo\", 1 : \"zebra\", 2:'rhino', 3:'elephant'}\n",
    "\n",
    "\n",
    "def show_objs(img,labeled_regions):\n",
    "  \"\"\" \n",
    "  - img : image\n",
    "  - labeled_regions : triplets (rect,label,score) :\n",
    "    - rect : quadruplet (x,y,w,h)\n",
    "    - label : un entier entre 0 et 1000\n",
    "    - score : un flottant entre 0 et 1\n",
    "  \"\"\"\n",
    "  imOut = img.copy()\n",
    "  \n",
    "  for rect,label,score in labeled_regions:\n",
    "      x, y, w, h = rect\n",
    "      cv2.rectangle(imOut, (x, y), (x+w, y+h), (0, 0, 255), 1, cv2.LINE_AA)\n",
    "      cv2.putText(imOut, \"{} : {:.2f}\".format(labels[label],score), (x,y+10),\n",
    "                  cv2.FONT_HERSHEY_SIMPLEX,.6,(0,255,255),2,cv2.LINE_AA)\n",
    "    \n",
    "  plt.imshow(imOut)"
   ]
  },
  {
   "cell_type": "code",
   "execution_count": 33,
   "metadata": {},
   "outputs": [],
   "source": [
    "#show_objs(image1, preds[:10])"
   ]
  },
  {
   "cell_type": "code",
   "execution_count": 34,
   "metadata": {},
   "outputs": [],
   "source": [
    "def IoU(rect1,rect2):\n",
    "  \"\"\" \n",
    "  Renvoie un float avec le IoU entre rect1 et rect2 :\n",
    "  rect1, rect2 : quadruplets (x,y,w,h) \n",
    "  \"\"\"\n",
    "  x1,y1,w1,h1 = rect1\n",
    "  x2,y2,w2,h2 = rect2\n",
    "  xA,yA = max(x1,x2),max(y1,y2)\n",
    "  xB,yB = min(x1+w1,x2+w2),min(y1+h1,y2+h2)\n",
    "  inter = max(0,xB - xA)*max(0,yB-yA)\n",
    "  union = w1*h1 + w2*h2 - inter\n",
    "  return inter/union"
   ]
  },
  {
   "cell_type": "code",
   "execution_count": 35,
   "metadata": {},
   "outputs": [],
   "source": [
    "def get_labeled_boxes2(img,maxRect=2000,threshold=.99,iou=0.2):\n",
    "  \"\"\" \n",
    "  get_labeled_boxes : prend en argument\n",
    "    - une image (img),\n",
    "    - un nombre maximum de zones de prédictions à tester (maxRect),\n",
    "    - un seuil d'acceptation d'une zone de prédiction (threshold)\n",
    "    - un iou\n",
    "  \"\"\"\n",
    "  predictions = []\n",
    "  rects = selectivesearch(img)\n",
    "  rects = filter_rects(rects)\n",
    "  m = min(maxRect, len(rects))\n",
    "  for i in tqdm.notebook.tqdm(range(m)):\n",
    "    # crop l'image avec rects[i]\n",
    "    (x,y,w,h) = rects[i]\n",
    "    img_rect = img[y:y+h,x:x+w]\n",
    "    # on transforme l'image d'abord et on la resize \n",
    "    img_rect = transform(img_rect)\n",
    "    img_rect= img_rect.resize(1,3,140,140)\n",
    "    res_clf = resnet(img_rect)\n",
    "    ## on convertit en probas avec softmax\n",
    "    probs = torch.nn.functional.softmax(res_clf)\n",
    "    proba_max, ind  = torch.max(probs), torch.argmax(probs)\n",
    "    if proba_max > threshold:\n",
    "      # on conserve cette prédiction\n",
    "      triplet = rects[i], int(ind), float(proba_max)\n",
    "\n",
    "      #on va chercher dans les prédiction déja faites \n",
    "\n",
    "      ajouter = True \n",
    "      for tpt in predictions:\n",
    "        rct, idx, _ = tpt\n",
    "        if idx==int(ind) and IoU(rct, rects[i]) > iou:\n",
    "          # on a deja détecté ce rectagle\n",
    "          ajouter = False\n",
    "      if ajouter :\n",
    "        predictions.append(triplet) \n",
    "\n",
    "  return predictions "
   ]
  },
  {
   "cell_type": "code",
   "execution_count": 36,
   "metadata": {},
   "outputs": [],
   "source": [
    "#labeled_regions2 = get_labeled_boxes2(image1)"
   ]
  },
  {
   "cell_type": "code",
   "execution_count": null,
   "metadata": {},
   "outputs": [],
   "source": []
  },
  {
   "cell_type": "markdown",
   "metadata": {},
   "source": [
    "# RCNN"
   ]
  },
  {
   "cell_type": "code",
   "execution_count": 37,
   "metadata": {},
   "outputs": [],
   "source": [
    "class Rcnn(nn.Module):\n",
    "    def __init__(self, resnet, num_classes):\n",
    "        super(Rcnn, self).__init__()\n",
    "        self.conv1 = resnet.conv1\n",
    "        self.bn1 = resnet.bn1\n",
    "        self.cnn = resnet.layers\n",
    "        self.num_classes = num_classes\n",
    "        # recup la taille de la feature map\n",
    "        r,d,w = resnet.resolution,resnet.depth,resnet.width\n",
    "        w_actu,r_actu = w,r\n",
    "        for nb in resnet.depth:\n",
    "            w_actu*=2\n",
    "            r_actu=roundsp(r_actu)\n",
    "        # taille de la feature map : w_actu@r_actu*r_actu\n",
    "        out_size = int(w_actu*r_actu*r_actu)\n",
    "        #print(out_size)\n",
    "        self.classifier = nn.Linear(out_size, num_classes+1)\n",
    "        self.bboxreg = nn.Linear(out_size, 4)\n",
    "        \n",
    "    def forward(self, x):\n",
    "        out = F.relu(self.bn1(self.conv1(x)))\n",
    "        out = self.cnn(out)\n",
    "        out = out.view(out.size(0), -1)\n",
    "        \n",
    "        clf = self.classifier(out)\n",
    "        \n",
    "        bbox = self.bboxreg(out)\n",
    "        bbox = F.sigmoid(bbox) ## les 4 nombres seront entre 0 et 1\n",
    "        return clf, bbox\n"
   ]
  },
  {
   "cell_type": "code",
   "execution_count": 38,
   "metadata": {},
   "outputs": [],
   "source": [
    "def rcnn(resnet, num_classes, bn1_dict, conv1_dict, cnn_dict):\n",
    "    \"\"\" renvoie un rcnn avec cnn loadé et bloqué\"\"\"\n",
    "    model = Rcnn(resnet, num_classes)\n",
    "    model.bn1.load_state_dict(bn1_dict)\n",
    "    model.conv1.load_state_dict(conv1_dict)\n",
    "    model.cnn.load_state_dict(cnn_dict)\n",
    "    \n",
    "    for p in model.bn1.parameters():\n",
    "        p.requires_grad=False\n",
    "    for p in model.conv1.parameters():\n",
    "        p.requires_grad=False\n",
    "    for p in model.cnn.parameters():\n",
    "        p.requires_grad=False\n",
    "    return model\n",
    "        \n",
    "    "
   ]
  },
  {
   "cell_type": "code",
   "execution_count": 39,
   "metadata": {},
   "outputs": [],
   "source": [
    "def get_state_dicts(resnet):\n",
    "    return resnet.bn1.state_dict(), resnet.conv1.state_dict(), resnet.layers.state_dict()"
   ]
  },
  {
   "cell_type": "code",
   "execution_count": 40,
   "metadata": {},
   "outputs": [],
   "source": [
    "b,c,cnn= get_state_dicts(resnet)"
   ]
  },
  {
   "cell_type": "code",
   "execution_count": 41,
   "metadata": {},
   "outputs": [],
   "source": [
    "rcnn_model = rcnn(resnet, 4, b,c,cnn)"
   ]
  },
  {
   "cell_type": "code",
   "execution_count": 42,
   "metadata": {},
   "outputs": [],
   "source": [
    "#summary(rcnn_model.to('cuda'), (3,140,140))"
   ]
  },
  {
   "cell_type": "code",
   "execution_count": 43,
   "metadata": {},
   "outputs": [],
   "source": [
    "# reste à définir la loss et le bon dataset"
   ]
  },
  {
   "cell_type": "code",
   "execution_count": 44,
   "metadata": {},
   "outputs": [],
   "source": [
    "def iou_yolo(rect1, rect2, glob_im):\n",
    "    _,W,H = glob_im.size()\n",
    "    x1, y1, w1, h1 = rect1 \n",
    "    x2, y2, w2, h2 = rect2\n",
    "    xa = x1 - w1/2\n",
    "    xb = x2 - w2/2\n",
    "    ya = y1 - h1/2\n",
    "    yb = y2 - h2/2\n",
    "    ha, hb = h1*H, h2*H\n",
    "    wa, wb = w1*W, w2*W\n",
    "    ra = [xa, ya, wa, ha]\n",
    "    rb = [xb, yb, wb, hb]\n",
    "    return IoU(ra,rb)\n",
    "    \n",
    "    \n",
    "    "
   ]
  },
  {
   "cell_type": "code",
   "execution_count": 45,
   "metadata": {},
   "outputs": [],
   "source": [
    "def is_positive(region, list_rec_lab, glob_im):\n",
    "    res = False\n",
    "    for _, rec in list_rec_lab:\n",
    "        i = iou_yolo(region, rec, glob_im)\n",
    "        if i>.5:\n",
    "            res=True\n",
    "            region_pos = rec\n",
    "            return res, rec\n",
    "    return False"
   ]
  },
  {
   "cell_type": "code",
   "execution_count": 46,
   "metadata": {},
   "outputs": [],
   "source": [
    "def sample_regions(img, list_rec_lab, region_prop):\n",
    "    #print(region_prop)\n",
    "    res = []\n",
    "    n_pos, n_neg = 0, 0\n",
    "    for region in region_prop:\n",
    "        isp = is_positive(region, list_rec_lab, img)\n",
    "        if isp==False and n_neg<96:\n",
    "            res.append((region, list_rec_lab[0][0]))\n",
    "        elif type(isp)==tuple:\n",
    "            _, rec = isp\n",
    "            res.append((region, list_rec_lab[0][0], rec))\n",
    "    return res"
   ]
  },
  {
   "cell_type": "code",
   "execution_count": 47,
   "metadata": {},
   "outputs": [],
   "source": [
    "def crop_tensor(image, region):\n",
    "    x,y,w_r,h_r = region\n",
    "    _,w,h = image.size()\n",
    "    x_abs ,y_abs = w*x ,h*y\n",
    "    y_top = y_abs - h_r*h/2\n",
    "    x_left = x_abs - w_r*w/2\n",
    "    return image[:, int(x_left):int(x_left+w_r*w), int(y_top):int(y_top+h_r*h)]"
   ]
  },
  {
   "cell_type": "code",
   "execution_count": 70,
   "metadata": {},
   "outputs": [],
   "source": [
    "def crop_tensor2(image,region):\n",
    "    x,y,w_r,h_r = region\n",
    "    _,w,h = image.size()\n",
    "    x_abs ,y_abs = w*x ,h*y\n",
    "    y_top = y_abs - h_r*h/2\n",
    "    x_left = x_abs - w_r*w/2\n",
    "    return image[:, int(y_top):int(y_top+h_r*h),int(x_left):int(x_left+w_r*w)]"
   ]
  },
  {
   "cell_type": "code",
   "execution_count": 71,
   "metadata": {},
   "outputs": [],
   "source": [
    "def get_regions(img_t):\n",
    "    #tr = torchvision.transforms.ToPILImage()\n",
    "    img_pil = img_t.permute(1,2,0).numpy()\n",
    "    _,W,H = img_t.size()\n",
    "    rects = selectivesearch(img_pil)\n",
    "    res = []\n",
    "    for rect in rects:\n",
    "        x,y,w,h = rect\n",
    "        x_c = (x + w/2)/W\n",
    "        y_c = (y + h/2)/H\n",
    "        w_r = w/W\n",
    "        h_r = h/H\n",
    "        res.append((x_c, y_c, w_r, h_r))\n",
    "    return res"
   ]
  },
  {
   "cell_type": "code",
   "execution_count": 76,
   "metadata": {},
   "outputs": [
    {
     "data": {
      "text/plain": [
       "<matplotlib.image.AxesImage at 0x7f28a6562d90>"
      ]
     },
     "execution_count": 76,
     "metadata": {},
     "output_type": "execute_result"
    },
    {
     "data": {
      "image/png": "[encoded data removed]",
      "text/plain": [
       "<Figure size 432x288 with 1 Axes>"
      ]
     },
     "metadata": {
      "needs_background": "light"
     },
     "output_type": "display_data"
    }
   ],
   "source": [
    "image, grl = det_data_t[77]\n",
    "plt.imshow(image.permute(1,2,0))"
   ]
  },
  {
   "cell_type": "code",
   "execution_count": 78,
   "metadata": {},
   "outputs": [
    {
     "data": {
      "text/plain": [
       "<matplotlib.image.AxesImage at 0x7f28a64375d0>"
      ]
     },
     "execution_count": 78,
     "metadata": {},
     "output_type": "execute_result"
    },
    {
     "data": {
      "image/png": "[encoded data removed]",
      "text/plain": [
       "<Figure size 432x288 with 1 Axes>"
      ]
     },
     "metadata": {
      "needs_background": "light"
     },
     "output_type": "display_data"
    }
   ],
   "source": [
    "region=grl[1][1] \n",
    "im_propo = crop_tensor2(image, region)\n",
    "plt.imshow(im_propo.permute(1,2,0))"
   ]
  },
  {
   "cell_type": "code",
   "execution_count": 84,
   "metadata": {},
   "outputs": [],
   "source": [
    "def train_rcnn(model, optimizer, ds_detect_t, n_epoch = 40):\n",
    "    loss_clf = torch.nn.CrossEntropyLoss()\n",
    "    loss_reg = torch.nn.SmoothL1Loss()\n",
    "    for _ in tqdm.notebook.tqdm(range(n_epoch)):\n",
    "        for data in tqdm.notebook.tqdm(ds_detect_t):\n",
    "            optimizer.zero_grad()\n",
    "            image, list_rect_lab = data\n",
    "            region_prop = get_regions(image)\n",
    "            #print(len(region_prop))\n",
    "            regions = sample_regions(image, list_rect_lab, region_prop)\n",
    "            for reg in regions:\n",
    "                if len(reg)==2:\n",
    "                    # region negative \n",
    "                    region, label = reg\n",
    "                    ipt_net = crop_tensor(image, region)\n",
    "                    ipt_net = interpolate(ipt_net, 140)\n",
    "                    ipt_net = ipt_net.resize(1, 3, 140, 140)\n",
    "                    #return ipt_net\n",
    "                    ipt_net = ipt_net.to('cuda')\n",
    "                    clf, bbox = model(ipt_net)\n",
    "                    loss = loss_clf(clf, torch.tensor([4]).to('cuda'))\n",
    "                    loss.backward()\n",
    "                else:\n",
    "                    # region positive\n",
    "                    region, label, gt_rect = reg\n",
    "                    ipt_net = crop_tensor(image, region)\n",
    "                    ipt_net = interpolate(ipt_net, 140)\n",
    "                    ipt_net = ipt_net.resize(1, 3, 140, 140)\n",
    "                    ipt_net = ipt_net.to('cuda')\n",
    "                    #return ipt_net\n",
    "                    \n",
    "                    clf, bbox = model(ipt_net)\n",
    "                    #print(gt_rect)\n",
    "                    loss = loss_reg(bbox, torch.tensor(gt_rect).to('cuda')) + loss_clf(clf, torch.tensor([label]).to('cuda'))\n",
    "                    loss.backward()      \n",
    "            optimizer.step()\n",
    "    return model"
   ]
  },
  {
   "cell_type": "code",
   "execution_count": 86,
   "metadata": {},
   "outputs": [
    {
     "data": {
      "text/plain": [
       "1501"
      ]
     },
     "execution_count": 86,
     "metadata": {},
     "output_type": "execute_result"
    }
   ],
   "source": [
    "len(det_data_t)"
   ]
  },
  {
   "cell_type": "code",
   "execution_count": 314,
   "metadata": {},
   "outputs": [
    {
     "data": {
      "application/vnd.jupyter.widget-view+json": {
       "model_id": "fb79cf0273b24a38ba300ffef774f625",
       "version_major": 2,
       "version_minor": 0
      },
      "text/plain": [
       "HBox(children=(FloatProgress(value=0.0, max=30.0), HTML(value='')))"
      ]
     },
     "metadata": {},
     "output_type": "display_data"
    },
    {
     "data": {
      "application/vnd.jupyter.widget-view+json": {
       "model_id": "876ef99dc24a43758dd832949fa4bbe4",
       "version_major": 2,
       "version_minor": 0
      },
      "text/plain": [
       "HBox(children=(FloatProgress(value=0.0, max=500.0), HTML(value='')))"
      ]
     },
     "metadata": {},
     "output_type": "display_data"
    },
    {
     "name": "stdout",
     "output_type": "stream",
     "text": [
      "\n"
     ]
    },
    {
     "data": {
      "application/vnd.jupyter.widget-view+json": {
       "model_id": "433afa5b373d48f68c51f78bdff8a18f",
       "version_major": 2,
       "version_minor": 0
      },
      "text/plain": [
       "HBox(children=(FloatProgress(value=0.0, max=500.0), HTML(value='')))"
      ]
     },
     "metadata": {},
     "output_type": "display_data"
    },
    {
     "name": "stdout",
     "output_type": "stream",
     "text": [
      "\n"
     ]
    },
    {
     "data": {
      "application/vnd.jupyter.widget-view+json": {
       "model_id": "363c7ecb44e346a6bb8f94bb6ba7abc6",
       "version_major": 2,
       "version_minor": 0
      },
      "text/plain": [
       "HBox(children=(FloatProgress(value=0.0, max=500.0), HTML(value='')))"
      ]
     },
     "metadata": {},
     "output_type": "display_data"
    },
    {
     "name": "stdout",
     "output_type": "stream",
     "text": [
      "\n"
     ]
    },
    {
     "data": {
      "application/vnd.jupyter.widget-view+json": {
       "model_id": "00996e3037d5438eb5d0e611fe2a300d",
       "version_major": 2,
       "version_minor": 0
      },
      "text/plain": [
       "HBox(children=(FloatProgress(value=0.0, max=500.0), HTML(value='')))"
      ]
     },
     "metadata": {},
     "output_type": "display_data"
    },
    {
     "name": "stdout",
     "output_type": "stream",
     "text": [
      "\n"
     ]
    },
    {
     "data": {
      "application/vnd.jupyter.widget-view+json": {
       "model_id": "fe7c8833c4214ff982ae43207b383e50",
       "version_major": 2,
       "version_minor": 0
      },
      "text/plain": [
       "HBox(children=(FloatProgress(value=0.0, max=500.0), HTML(value='')))"
      ]
     },
     "metadata": {},
     "output_type": "display_data"
    },
    {
     "name": "stdout",
     "output_type": "stream",
     "text": [
      "\n"
     ]
    },
    {
     "data": {
      "application/vnd.jupyter.widget-view+json": {
       "model_id": "cdfc8a9af3dc4fcbb2bd93087298c3fe",
       "version_major": 2,
       "version_minor": 0
      },
      "text/plain": [
       "HBox(children=(FloatProgress(value=0.0, max=500.0), HTML(value='')))"
      ]
     },
     "metadata": {},
     "output_type": "display_data"
    },
    {
     "name": "stdout",
     "output_type": "stream",
     "text": [
      "\n"
     ]
    },
    {
     "data": {
      "application/vnd.jupyter.widget-view+json": {
       "model_id": "c37e55a667a848a7b57fa7d95dd96cb9",
       "version_major": 2,
       "version_minor": 0
      },
      "text/plain": [
       "HBox(children=(FloatProgress(value=0.0, max=500.0), HTML(value='')))"
      ]
     },
     "metadata": {},
     "output_type": "display_data"
    },
    {
     "name": "stdout",
     "output_type": "stream",
     "text": [
      "\n"
     ]
    },
    {
     "data": {
      "application/vnd.jupyter.widget-view+json": {
       "model_id": "b060d7e8b360484591749f10e51bc95f",
       "version_major": 2,
       "version_minor": 0
      },
      "text/plain": [
       "HBox(children=(FloatProgress(value=0.0, max=500.0), HTML(value='')))"
      ]
     },
     "metadata": {},
     "output_type": "display_data"
    },
    {
     "name": "stdout",
     "output_type": "stream",
     "text": [
      "\n"
     ]
    },
    {
     "data": {
      "application/vnd.jupyter.widget-view+json": {
       "model_id": "04fdfcc8c3c24e2a82e923214e7eca85",
       "version_major": 2,
       "version_minor": 0
      },
      "text/plain": [
       "HBox(children=(FloatProgress(value=0.0, max=500.0), HTML(value='')))"
      ]
     },
     "metadata": {},
     "output_type": "display_data"
    },
    {
     "name": "stdout",
     "output_type": "stream",
     "text": [
      "\n"
     ]
    },
    {
     "data": {
      "application/vnd.jupyter.widget-view+json": {
       "model_id": "00bbdad539e24c30834bab23472b2530",
       "version_major": 2,
       "version_minor": 0
      },
      "text/plain": [
       "HBox(children=(FloatProgress(value=0.0, max=500.0), HTML(value='')))"
      ]
     },
     "metadata": {},
     "output_type": "display_data"
    },
    {
     "name": "stdout",
     "output_type": "stream",
     "text": [
      "\n"
     ]
    },
    {
     "data": {
      "application/vnd.jupyter.widget-view+json": {
       "model_id": "459745b7f73447fd9d0d402698c549b8",
       "version_major": 2,
       "version_minor": 0
      },
      "text/plain": [
       "HBox(children=(FloatProgress(value=0.0, max=500.0), HTML(value='')))"
      ]
     },
     "metadata": {},
     "output_type": "display_data"
    },
    {
     "name": "stdout",
     "output_type": "stream",
     "text": [
      "\n"
     ]
    },
    {
     "data": {
      "application/vnd.jupyter.widget-view+json": {
       "model_id": "2a3cbaa8c6724f0aac34fa9265080e9d",
       "version_major": 2,
       "version_minor": 0
      },
      "text/plain": [
       "HBox(children=(FloatProgress(value=0.0, max=500.0), HTML(value='')))"
      ]
     },
     "metadata": {},
     "output_type": "display_data"
    },
    {
     "name": "stdout",
     "output_type": "stream",
     "text": [
      "\n"
     ]
    },
    {
     "data": {
      "application/vnd.jupyter.widget-view+json": {
       "model_id": "0520225b78024760be15bc52169e2960",
       "version_major": 2,
       "version_minor": 0
      },
      "text/plain": [
       "HBox(children=(FloatProgress(value=0.0, max=500.0), HTML(value='')))"
      ]
     },
     "metadata": {},
     "output_type": "display_data"
    },
    {
     "name": "stdout",
     "output_type": "stream",
     "text": [
      "\n"
     ]
    },
    {
     "data": {
      "application/vnd.jupyter.widget-view+json": {
       "model_id": "3257fff678e445bf85fc2be65e2206d3",
       "version_major": 2,
       "version_minor": 0
      },
      "text/plain": [
       "HBox(children=(FloatProgress(value=0.0, max=500.0), HTML(value='')))"
      ]
     },
     "metadata": {},
     "output_type": "display_data"
    },
    {
     "name": "stdout",
     "output_type": "stream",
     "text": [
      "\n"
     ]
    },
    {
     "data": {
      "application/vnd.jupyter.widget-view+json": {
       "model_id": "14274cca2c2043c5a03a8c13b2ac41b5",
       "version_major": 2,
       "version_minor": 0
      },
      "text/plain": [
       "HBox(children=(FloatProgress(value=0.0, max=500.0), HTML(value='')))"
      ]
     },
     "metadata": {},
     "output_type": "display_data"
    },
    {
     "name": "stdout",
     "output_type": "stream",
     "text": [
      "\n"
     ]
    },
    {
     "data": {
      "application/vnd.jupyter.widget-view+json": {
       "model_id": "97ea939ef9fa4be2ae6b8f8fd667cb96",
       "version_major": 2,
       "version_minor": 0
      },
      "text/plain": [
       "HBox(children=(FloatProgress(value=0.0, max=500.0), HTML(value='')))"
      ]
     },
     "metadata": {},
     "output_type": "display_data"
    },
    {
     "name": "stdout",
     "output_type": "stream",
     "text": [
      "\n"
     ]
    },
    {
     "data": {
      "application/vnd.jupyter.widget-view+json": {
       "model_id": "8c8791455a6c45d58a09b12a8bafc300",
       "version_major": 2,
       "version_minor": 0
      },
      "text/plain": [
       "HBox(children=(FloatProgress(value=0.0, max=500.0), HTML(value='')))"
      ]
     },
     "metadata": {},
     "output_type": "display_data"
    },
    {
     "name": "stdout",
     "output_type": "stream",
     "text": [
      "\n"
     ]
    },
    {
     "data": {
      "application/vnd.jupyter.widget-view+json": {
       "model_id": "feba67a5626e4c5a90363a6535a9b5be",
       "version_major": 2,
       "version_minor": 0
      },
      "text/plain": [
       "HBox(children=(FloatProgress(value=0.0, max=500.0), HTML(value='')))"
      ]
     },
     "metadata": {},
     "output_type": "display_data"
    },
    {
     "name": "stdout",
     "output_type": "stream",
     "text": [
      "\n"
     ]
    },
    {
     "data": {
      "application/vnd.jupyter.widget-view+json": {
       "model_id": "b51310b866d04926aff322870a922b2b",
       "version_major": 2,
       "version_minor": 0
      },
      "text/plain": [
       "HBox(children=(FloatProgress(value=0.0, max=500.0), HTML(value='')))"
      ]
     },
     "metadata": {},
     "output_type": "display_data"
    },
    {
     "name": "stdout",
     "output_type": "stream",
     "text": [
      "\n"
     ]
    },
    {
     "data": {
      "application/vnd.jupyter.widget-view+json": {
       "model_id": "430e7c0500544bfc8b161240a28e294d",
       "version_major": 2,
       "version_minor": 0
      },
      "text/plain": [
       "HBox(children=(FloatProgress(value=0.0, max=500.0), HTML(value='')))"
      ]
     },
     "metadata": {},
     "output_type": "display_data"
    },
    {
     "name": "stdout",
     "output_type": "stream",
     "text": [
      "\n"
     ]
    },
    {
     "data": {
      "application/vnd.jupyter.widget-view+json": {
       "model_id": "eec01614b17b402fa931576a3c304d31",
       "version_major": 2,
       "version_minor": 0
      },
      "text/plain": [
       "HBox(children=(FloatProgress(value=0.0, max=500.0), HTML(value='')))"
      ]
     },
     "metadata": {},
     "output_type": "display_data"
    },
    {
     "name": "stdout",
     "output_type": "stream",
     "text": [
      "\n"
     ]
    },
    {
     "data": {
      "application/vnd.jupyter.widget-view+json": {
       "model_id": "17b58d2829c44832ab4138f8892f1412",
       "version_major": 2,
       "version_minor": 0
      },
      "text/plain": [
       "HBox(children=(FloatProgress(value=0.0, max=500.0), HTML(value='')))"
      ]
     },
     "metadata": {},
     "output_type": "display_data"
    },
    {
     "name": "stdout",
     "output_type": "stream",
     "text": [
      "\n"
     ]
    },
    {
     "data": {
      "application/vnd.jupyter.widget-view+json": {
       "model_id": "e5aa4ae1815b455ba89f987fec2261fe",
       "version_major": 2,
       "version_minor": 0
      },
      "text/plain": [
       "HBox(children=(FloatProgress(value=0.0, max=500.0), HTML(value='')))"
      ]
     },
     "metadata": {},
     "output_type": "display_data"
    },
    {
     "name": "stdout",
     "output_type": "stream",
     "text": [
      "\n"
     ]
    },
    {
     "data": {
      "application/vnd.jupyter.widget-view+json": {
       "model_id": "eb9a75b20440429ab1f20c3d74ba84a9",
       "version_major": 2,
       "version_minor": 0
      },
      "text/plain": [
       "HBox(children=(FloatProgress(value=0.0, max=500.0), HTML(value='')))"
      ]
     },
     "metadata": {},
     "output_type": "display_data"
    },
    {
     "name": "stdout",
     "output_type": "stream",
     "text": [
      "\n"
     ]
    },
    {
     "data": {
      "application/vnd.jupyter.widget-view+json": {
       "model_id": "7ce47e75868a4e89ba3a6e7b79827f59",
       "version_major": 2,
       "version_minor": 0
      },
      "text/plain": [
       "HBox(children=(FloatProgress(value=0.0, max=500.0), HTML(value='')))"
      ]
     },
     "metadata": {},
     "output_type": "display_data"
    },
    {
     "name": "stdout",
     "output_type": "stream",
     "text": [
      "\n"
     ]
    },
    {
     "data": {
      "application/vnd.jupyter.widget-view+json": {
       "model_id": "72e199e6996244129167542c90b445b3",
       "version_major": 2,
       "version_minor": 0
      },
      "text/plain": [
       "HBox(children=(FloatProgress(value=0.0, max=500.0), HTML(value='')))"
      ]
     },
     "metadata": {},
     "output_type": "display_data"
    },
    {
     "name": "stdout",
     "output_type": "stream",
     "text": [
      "\n"
     ]
    },
    {
     "data": {
      "application/vnd.jupyter.widget-view+json": {
       "model_id": "664848652513450d833a47d6fa8f9222",
       "version_major": 2,
       "version_minor": 0
      },
      "text/plain": [
       "HBox(children=(FloatProgress(value=0.0, max=500.0), HTML(value='')))"
      ]
     },
     "metadata": {},
     "output_type": "display_data"
    },
    {
     "name": "stdout",
     "output_type": "stream",
     "text": [
      "\n"
     ]
    },
    {
     "data": {
      "application/vnd.jupyter.widget-view+json": {
       "model_id": "36c73135c990444f8f50dddd2876fc0c",
       "version_major": 2,
       "version_minor": 0
      },
      "text/plain": [
       "HBox(children=(FloatProgress(value=0.0, max=500.0), HTML(value='')))"
      ]
     },
     "metadata": {},
     "output_type": "display_data"
    },
    {
     "name": "stdout",
     "output_type": "stream",
     "text": [
      "\n"
     ]
    },
    {
     "data": {
      "application/vnd.jupyter.widget-view+json": {
       "model_id": "b734175f69314263a32950b2c1d142d5",
       "version_major": 2,
       "version_minor": 0
      },
      "text/plain": [
       "HBox(children=(FloatProgress(value=0.0, max=500.0), HTML(value='')))"
      ]
     },
     "metadata": {},
     "output_type": "display_data"
    },
    {
     "name": "stdout",
     "output_type": "stream",
     "text": [
      "\n"
     ]
    },
    {
     "data": {
      "application/vnd.jupyter.widget-view+json": {
       "model_id": "2e37293b5a414c1f8b8495807fde11cd",
       "version_major": 2,
       "version_minor": 0
      },
      "text/plain": [
       "HBox(children=(FloatProgress(value=0.0, max=500.0), HTML(value='')))"
      ]
     },
     "metadata": {},
     "output_type": "display_data"
    },
    {
     "name": "stdout",
     "output_type": "stream",
     "text": [
      "\n",
      "\n"
     ]
    }
   ],
   "source": [
    "rcnn_model.to('cuda')\n",
    "opt = torch.optim.Adam(rcnn_model.parameters())\n",
    "rcnn_model = train_rcnn(rcnn_model, opt, det_data_t[:500], n_epoch = 30)\n"
   ]
  },
  {
   "cell_type": "code",
   "execution_count": 402,
   "metadata": {},
   "outputs": [],
   "source": [
    "def get_predictions(model, image, iou=.2):\n",
    "    model = model.eval()\n",
    "    region_prop = get_regions(image)\n",
    "    res = []\n",
    "    for reg in region_prop:\n",
    "        ipt_net = crop_tensor(image, reg)\n",
    "        ipt_net = interpolate(ipt_net, 140)\n",
    "        ipt_net = ipt_net.resize(1, 3, 140, 140)\n",
    "        ipt_net = ipt_net.to('cuda')\n",
    "        clf, bbox = model(ipt_net)\n",
    "        #return bbox\n",
    "        probas = F.softmax(clf)\n",
    "        label = torch.argmax(probas)\n",
    "        max_prob = torch.max(probas)\n",
    "        \n",
    "        if label!= 4:\n",
    "            ## alors c'est une vraie box\n",
    "            rectangle = bbox[0][0], bbox[0][1], bbox[0][2], bbox[0][3]\n",
    "            ajouter = True \n",
    "            for tpt in res:\n",
    "                lbl,prb,rect = tpt\n",
    "                if int(lbl)==int(label) and iou_yolo(rect, reg, image) > iou:\n",
    "                      # on a deja détecté ce rectagle\n",
    "                    ajouter = False\n",
    "            if ajouter :\n",
    "                res.append((label.data,max_prob.data, reg))\n",
    "                \n",
    "                \n",
    "                \n",
    "    return res\n"
   ]
  },
  {
   "cell_type": "code",
   "execution_count": 390,
   "metadata": {},
   "outputs": [],
   "source": [
    "dict_labels = {0:'buffalo', 1 : \"elephant\", 2: \"rhino\", 3 : \"zebra\", 4:\"background\"}"
   ]
  },
  {
   "cell_type": "code",
   "execution_count": 431,
   "metadata": {},
   "outputs": [
    {
     "name": "stderr",
     "output_type": "stream",
     "text": [
      "/anaconda/envs/py37_pytorch/lib/python3.7/site-packages/ipykernel_launcher.py:12: UserWarning: Implicit dimension choice for softmax has been deprecated. Change the call to include dim=X as an argument.\n",
      "  if sys.path[0] == '':\n"
     ]
    },
    {
     "name": "stdout",
     "output_type": "stream",
     "text": [
      "<class 'PIL.Image.Image'>\n"
     ]
    },
    {
     "data": {
      "image/png": "[encoded data removed]",
      "text/plain": [
       "<Figure size 432x288 with 1 Axes>"
      ]
     },
     "metadata": {
      "needs_background": "light"
     },
     "output_type": "display_data"
    }
   ],
   "source": [
    "plot_corrections(det_data_t, 189)"
   ]
  },
  {
   "cell_type": "code",
   "execution_count": 408,
   "metadata": {},
   "outputs": [],
   "source": [
    "def plot_corrections(dataset,n):\n",
    "    image = dataset[n][0]\n",
    "    vrai_rect =  dataset[n][1][0][1]\n",
    "    \n",
    "    preds=get_predictions(rcnn_model, image)\n",
    "    t = torchvision.transforms.ToPILImage()\n",
    "    _, W, H = image.size()\n",
    "    imagepil = t(image)\n",
    "    print(type(imagepil))\n",
    "    predictions = []\n",
    "    for label, max_prob, box in preds : \n",
    "        x,y,w,h = box\n",
    "        rect =(x-w/2)*W, (y-h/2)*H, w*W, h*H\n",
    "        if max_prob>0.6:\n",
    "            predictions.append((rect,label, max_prob))\n",
    "    #print(predictions)\n",
    "    imOut = imagepil\n",
    "    #plt.imshow(imOut)\n",
    "    #image PIL\n",
    "    img1 = ImageDraw.Draw(imOut)  \n",
    "    \n",
    "    xv,yv,wv,hv = vrai_rect\n",
    "    xp,yp,wp,hp = (xv-wv/2)*W, (yv-hv/2)*H, wv*W, hv*H\n",
    "    \n",
    "    #type(imOut)\n",
    "    for rect,label,score in predictions:\n",
    "        x, y, w, h = rect\n",
    "        x,y,w,h = int(x), int(y), int(w), int(h) \n",
    "        #print(x,y,w,h)\n",
    "        \n",
    "        shape = [(x,y), (x+w, y+h)]\n",
    "        img1.rectangle(shape, outline =\"red\")\n",
    "        img1.text((x,y), dict_labels[int(label)], fill=(0,255,255,255))\n",
    "        \n",
    "    shapev = [(xp,yp), (xp+wp,yp+wp )]\n",
    "    img1.rectangle(shapev, outline = 'green')\n",
    "    img1.text((xp,yp+wp ), \"true box\", fill=(0,0,255,255) )\n",
    "        #print(dict_labels[int(label)])\n",
    "        \n",
    "    plt.imshow(imOut)\n",
    "    "
   ]
  },
  {
   "cell_type": "code",
   "execution_count": 321,
   "metadata": {},
   "outputs": [],
   "source": [
    "def plot_predictions(preds,image):\n",
    "    t = torchvision.transforms.ToPILImage()\n",
    "    _, W, H = image.size()\n",
    "    imagepil = t(image)\n",
    "    print(type(imagepil))\n",
    "    predictions = []\n",
    "    for label, max_prob, box in preds : \n",
    "        x,y,w,h = box\n",
    "        rect =(x-w/2)*W, (y-h/2)*H, w*W, h*H\n",
    "        if max_prob>0.6:\n",
    "            predictions.append((rect,label, max_prob))\n",
    "    #print(predictions)\n",
    "    show_preds(imagepil, predictions)\n",
    "        \n",
    "        "
   ]
  },
  {
   "cell_type": "code",
   "execution_count": 272,
   "metadata": {},
   "outputs": [],
   "source": [
    "def show_preds(img,labeled_regions):\n",
    "    imOut = img\n",
    "    #plt.imshow(imOut)\n",
    "    #image PIL\n",
    "    img1 = ImageDraw.Draw(imOut)  \n",
    "    \n",
    "    \n",
    "    #type(imOut)\n",
    "    for rect,label,score in labeled_regions:\n",
    "        x, y, w, h = rect\n",
    "        x,y,w,h = int(x), int(y), int(w), int(h) \n",
    "        #print(x,y,w,h)\n",
    "        \n",
    "        shape = [(x,y), (x+w, y+h)]\n",
    "        img1.rectangle(shape, outline =\"red\")\n",
    "        img1.text((x,y), dict_labels[int(label)], fill=(0,255,255,255))\n",
    "        #print(dict_labels[int(label)])\n",
    "        \n",
    "    plt.imshow(imOut)"
   ]
  }
 ],
 "metadata": {
  "kernelspec": {
   "display_name": "py37_pytorch",
   "language": "python",
   "name": "conda-env-py37_pytorch-py"
  },
  "language_info": {
   "codemirror_mode": {
    "name": "ipython",
    "version": 3
   },
   "file_extension": ".py",
   "mimetype": "text/x-python",
   "name": "python",
   "nbconvert_exporter": "python",
   "pygments_lexer": "ipython3",
   "version": "3.7.7"
  }
 },
 "nbformat": 4,
 "nbformat_minor": 4
}
